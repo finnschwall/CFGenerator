{
 "cells": [
  {
   "cell_type": "code",
   "execution_count": 1,
   "id": "160d1c3d-41a4-497e-8795-89052dae95b4",
   "metadata": {},
   "outputs": [],
   "source": [
    "import pandas as pd\n",
    "import CounterFactualGenerator as cf\n",
    "import numpy as np\n",
    "%load_ext autoreload\n",
    "%autoreload 2\n",
    "\n",
    "dataset =  pd.read_csv(\"data/aug_train.csv\")\n",
    "dataset.drop([\"gender\",\"enrollee_id\",\"city\"],axis = 1, inplace=True)\n",
    "dataset.dropna(inplace=True)\n",
    "import warnings\n",
    "warnings.filterwarnings(\"ignore\")"
   ]
  },
  {
   "cell_type": "code",
   "execution_count": 2,
   "id": "e2467041-d733-4727-8c71-4343b5fd954a",
   "metadata": {},
   "outputs": [],
   "source": [
    "cf_data = cf.CFData(dataset,\"target\")\n",
    "cf_data.get_feature_weights()\n",
    "\n",
    "#CFData provides already encoded data for training\n",
    "data=cf_data.get_training_data()\n"
   ]
  },
  {
   "cell_type": "code",
   "execution_count": 3,
   "id": "9db6dadb-be45-4742-92c7-8763275e8f7c",
   "metadata": {},
   "outputs": [
    {
     "name": "stdout",
     "output_type": "stream",
     "text": [
      "Training Accuracy : 0.9988818069998882\n"
     ]
    }
   ],
   "source": [
    "from sklearn.model_selection import train_test_split\n",
    "\n",
    "y = data[\"target\"]\n",
    "x = data.drop([\"target\"],axis=1)\n",
    "\n",
    "x_train, x_valid, y_train, y_valid = train_test_split(x, y, test_size = 0.2)\n",
    "from sklearn.ensemble import RandomForestClassifier\n",
    "\n",
    "rfc = RandomForestClassifier()\n",
    "rfc.fit(x_train, y_train)\n",
    "print(\"Training Accuracy :\", rfc.score(x_train, y_train))"
   ]
  },
  {
   "cell_type": "code",
   "execution_count": 4,
   "id": "8f3dbc90-04e4-4895-bf01-22ba4d576482",
   "metadata": {},
   "outputs": [],
   "source": [
    "import CounterFactualGenerator as cf\n",
    "\n",
    "#cf_data.feature_weights[0]=200"
   ]
  },
  {
   "cell_type": "code",
   "execution_count": 5,
   "id": "111a6132-ac9a-43ec-aa5a-d195e2d0fd0f",
   "metadata": {},
   "outputs": [],
   "source": [
    "cf_data.get_feature_weights()\n",
    "cf_data.set_feature_weight(\"company_type\",20)"
   ]
  },
  {
   "cell_type": "code",
   "execution_count": 6,
   "id": "c92fa242-ab79-40e4-b051-32330a65dfda",
   "metadata": {},
   "outputs": [
    {
     "data": {
      "text/html": [
       "<div>\n",
       "<style scoped>\n",
       "    .dataframe tbody tr th:only-of-type {\n",
       "        vertical-align: middle;\n",
       "    }\n",
       "\n",
       "    .dataframe tbody tr th {\n",
       "        vertical-align: top;\n",
       "    }\n",
       "\n",
       "    .dataframe thead th {\n",
       "        text-align: right;\n",
       "    }\n",
       "</style>\n",
       "<table border=\"1\" class=\"dataframe\">\n",
       "  <thead>\n",
       "    <tr style=\"text-align: right;\">\n",
       "      <th></th>\n",
       "      <th>city_development_index</th>\n",
       "      <th>relevent_experience</th>\n",
       "      <th>enrolled_university</th>\n",
       "      <th>education_level</th>\n",
       "      <th>major_discipline</th>\n",
       "      <th>experience</th>\n",
       "      <th>company_size</th>\n",
       "      <th>company_type</th>\n",
       "      <th>last_new_job</th>\n",
       "      <th>training_hours</th>\n",
       "      <th>target</th>\n",
       "    </tr>\n",
       "  </thead>\n",
       "  <tbody>\n",
       "    <tr>\n",
       "      <th>0</th>\n",
       "      <td>0.776</td>\n",
       "      <td>No relevent experience</td>\n",
       "      <td>no_enrollment</td>\n",
       "      <td>Graduate</td>\n",
       "      <td>STEM</td>\n",
       "      <td>15</td>\n",
       "      <td>50-99</td>\n",
       "      <td>Pvt Ltd</td>\n",
       "      <td>&gt;4</td>\n",
       "      <td>47.0</td>\n",
       "      <td>0.0</td>\n",
       "    </tr>\n",
       "    <tr>\n",
       "      <th>1</th>\n",
       "      <td>0.800</td>\n",
       "      <td>-</td>\n",
       "      <td>-</td>\n",
       "      <td>-</td>\n",
       "      <td>-</td>\n",
       "      <td>13</td>\n",
       "      <td>-</td>\n",
       "      <td>-</td>\n",
       "      <td>1</td>\n",
       "      <td>-</td>\n",
       "      <td>1.0</td>\n",
       "    </tr>\n",
       "    <tr>\n",
       "      <th>2</th>\n",
       "      <td>0.800</td>\n",
       "      <td>-</td>\n",
       "      <td>-</td>\n",
       "      <td>-</td>\n",
       "      <td>-</td>\n",
       "      <td>12</td>\n",
       "      <td>-</td>\n",
       "      <td>-</td>\n",
       "      <td>1</td>\n",
       "      <td>-</td>\n",
       "      <td>1.0</td>\n",
       "    </tr>\n",
       "    <tr>\n",
       "      <th>3</th>\n",
       "      <td>0.600</td>\n",
       "      <td>-</td>\n",
       "      <td>-</td>\n",
       "      <td>-</td>\n",
       "      <td>-</td>\n",
       "      <td>-</td>\n",
       "      <td>-</td>\n",
       "      <td>-</td>\n",
       "      <td>-</td>\n",
       "      <td>-</td>\n",
       "      <td>1.0</td>\n",
       "    </tr>\n",
       "    <tr>\n",
       "      <th>4</th>\n",
       "      <td>0.600</td>\n",
       "      <td>-</td>\n",
       "      <td>-</td>\n",
       "      <td>-</td>\n",
       "      <td>-</td>\n",
       "      <td>11</td>\n",
       "      <td>-</td>\n",
       "      <td>-</td>\n",
       "      <td>-</td>\n",
       "      <td>-</td>\n",
       "      <td>1.0</td>\n",
       "    </tr>\n",
       "    <tr>\n",
       "      <th>5</th>\n",
       "      <td>0.600</td>\n",
       "      <td>-</td>\n",
       "      <td>-</td>\n",
       "      <td>-</td>\n",
       "      <td>-</td>\n",
       "      <td>1</td>\n",
       "      <td>-</td>\n",
       "      <td>-</td>\n",
       "      <td>-</td>\n",
       "      <td>-</td>\n",
       "      <td>1.0</td>\n",
       "    </tr>\n",
       "  </tbody>\n",
       "</table>\n",
       "</div>"
      ],
      "text/plain": [
       "   city_development_index     relevent_experience enrolled_university  \\\n",
       "0                   0.776  No relevent experience       no_enrollment   \n",
       "1                   0.800                       -                   -   \n",
       "2                   0.800                       -                   -   \n",
       "3                   0.600                       -                   -   \n",
       "4                   0.600                       -                   -   \n",
       "5                   0.600                       -                   -   \n",
       "\n",
       "  education_level major_discipline experience company_size company_type  \\\n",
       "0        Graduate             STEM         15        50-99      Pvt Ltd   \n",
       "1               -                -         13            -            -   \n",
       "2               -                -         12            -            -   \n",
       "3               -                -          -            -            -   \n",
       "4               -                -         11            -            -   \n",
       "5               -                -          1            -            -   \n",
       "\n",
       "  last_new_job training_hours  target  \n",
       "0           >4           47.0     0.0  \n",
       "1            1              -     1.0  \n",
       "2            1              -     1.0  \n",
       "3            -              -     1.0  \n",
       "4            -              -     1.0  \n",
       "5            -              -     1.0  "
      ]
     },
     "execution_count": 6,
     "metadata": {},
     "output_type": "execute_result"
    }
   ],
   "source": [
    "cf_gen = cf.CFGenerator(0,[0.5,1],cf_data,rfc.predict,pop_size=1000,elite_count=150)\n",
    "cf_gen.generate_counterfactuals(5)\n",
    "#outcome HEAVILY depends on used metrics"
   ]
  },
  {
   "cell_type": "code",
   "execution_count": 9,
   "id": "8f6d28ad-2bcf-46e7-b3dd-067610ae637d",
   "metadata": {},
   "outputs": [
    {
     "data": {
      "text/plain": [
       "[<matplotlib.lines.Line2D at 0x7f2dded18550>]"
      ]
     },
     "execution_count": 9,
     "metadata": {},
     "output_type": "execute_result"
    },
    {
     "data": {
      "image/png": "[encoded data removed]",
      "text/plain": [
       "<Figure size 432x288 with 1 Axes>"
      ]
     },
     "metadata": {
      "needs_background": "light"
     },
     "output_type": "display_data"
    }
   ],
   "source": [
    "import matplotlib.pyplot as plt\n",
    "plt.xlabel(\"Generationen\")\n",
    "plt.ylabel(\"Fitness\")\n",
    "plt.plot(cf_gen.plot_x[:],cf_gen.plot_y[:])"
   ]
  }
 ],
 "metadata": {
  "kernelspec": {
   "display_name": "Python 3 (ipykernel)",
   "language": "python",
   "name": "python3"
  },
  "language_info": {
   "codemirror_mode": {
    "name": "ipython",
    "version": 3
   },
   "file_extension": ".py",
   "mimetype": "text/x-python",
   "name": "python",
   "nbconvert_exporter": "python",
   "pygments_lexer": "ipython3",
   "version": "3.8.10"
  }
 },
 "nbformat": 4,
 "nbformat_minor": 5
}
